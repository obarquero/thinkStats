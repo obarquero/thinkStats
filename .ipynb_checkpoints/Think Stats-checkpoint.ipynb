{
 "cells": [
  {
   "cell_type": "markdown",
   "metadata": {},
   "source": [
    "# Think Stats- Chapter 1\n",
    "\n",
    "In this Chapter we are goin to answer the following question: **Do fisrt babies arrives late?** using data-driven evidence.\n",
    "\n",
    "We are going to address the problem using a Statistcal approach:\n",
    "\n",
    "* *Data collection*: We will use data from a large national survey in USA.\n",
    "* *Descriptive statistics*: We will generate statistics that summarize data conscisely.\n",
    "* *Exploratory data analys*: We will look for patterns, differences, etc.\n",
    "* *Hypothesis testing*: Where we see apparente effect, like a difference between two groups, we will evaluate whether the effect is real.\n",
    "* *Estimation*: We will use data from a sample to estimate characteristics of the general population.\n",
    "\n",
    "\n",
    "## The national survey of family growth\n",
    "\n",
    "Since 1973, the U.S. Centers for Disease Control and Prevention have conducte a survey.\n",
    "\n",
    "The survey (National Survey of Familiy Growth, NSFG), as a **cross-sectional study**, that is the survey captures a snapshot oif a group at a point in time. The most commong alternative is a **longitudinal analysis**, which observe a group repeatedly over a period of time.\n",
    "\n",
    "The data used in this example is from Cycle 6, from January 2002 to March 2003. The goal of the survey is to draw conclusions about a **population**, the target population of the NSFG is people in United States aged 15-44.\n",
    "\n",
    "The people who participate in a survey are called **respondents**, a group of respondents is called a **cohort**"
   ]
  },
  {
   "cell_type": "markdown",
   "metadata": {},
   "source": [
    "### Exercise 1-1. \n",
    "\n",
    "Althoug the NSFG has been conducted seven times, it is not a longitudinal study. Read the Wikipedia pages (Cross-Sectional Stuyd)[https://en.wikipedia.org/wiki/Cross-sectional_study] and (Longitudinal Study)[https://en.wikipedia.org/wiki/Longitudinal_study]. Why is that?\n",
    "\n",
    "<font color='grey'>Beacuse the survey is repeated to a different persons over the time. A longitunidal study implies that the survey is answered by the same person<font>"
   ]
  },
  {
   "cell_type": "markdown",
   "metadata": {},
   "source": [
    "### Exercise 1-2. \n",
    "\n",
    "Download data from NSFG."
   ]
  },
  {
   "cell_type": "code",
   "execution_count": 8,
   "metadata": {},
   "outputs": [
    {
     "name": "stdout",
     "output_type": "stream",
     "text": [
      "Number of respondents 7643\n",
      "Number of pregnancies 13593\n"
     ]
    }
   ],
   "source": [
    "from survey import *\n",
    "\n",
    "resp = Respondents()\n",
    "resp.ReadRecords('./')\n",
    "print('Number of respondents %d'%len(resp.records))\n",
    "\n",
    "preg = Pregnancies()\n",
    "preg.ReadRecords('./')\n",
    "print('Number of pregnancies %d'%len(preg.records))"
   ]
  },
  {
   "cell_type": "code",
   "execution_count": null,
   "metadata": {},
   "outputs": [],
   "source": []
  },
  {
   "cell_type": "code",
   "execution_count": null,
   "metadata": {},
   "outputs": [],
   "source": []
  }
 ],
 "metadata": {
  "kernelspec": {
   "display_name": "Python 3",
   "language": "python",
   "name": "python3"
  },
  "language_info": {
   "codemirror_mode": {
    "name": "ipython",
    "version": 3
   },
   "file_extension": ".py",
   "mimetype": "text/x-python",
   "name": "python",
   "nbconvert_exporter": "python",
   "pygments_lexer": "ipython3",
   "version": "3.6.5"
  }
 },
 "nbformat": 4,
 "nbformat_minor": 2
}
